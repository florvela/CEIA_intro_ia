{
 "cells": [
  {
   "cell_type": "code",
   "execution_count": 1,
   "id": "d2a916bd",
   "metadata": {},
   "outputs": [],
   "source": [
    "import numpy as np\n",
    "import matplotlib.pyplot as plt\n",
    "import pandas as pd\n",
    "import seaborn as sns\n",
    "from sklearn.model_selection import train_test_split\n",
    "from sklearn.linear_model import LinearRegression\n",
    "from sklearn.linear_model import LogisticRegression\n",
    "from sklearn.linear_model import SGDClassifier\n",
    "from sklearn.linear_model import ElasticNet\n",
    "from sklearn.decomposition import PCA\n",
    "from sklearn.preprocessing import StandardScaler\n",
    "from sklearn.naive_bayes import GaussianNB\n",
    "from sklearn.neighbors import KNeighborsClassifier\n",
    "from sklearn.metrics import accuracy_score, precision_score, recall_score, mean_squared_error, r2_score\n",
    "from sklearn.preprocessing import PolynomialFeatures"
   ]
  },
  {
   "cell_type": "markdown",
   "id": "096b4bf0",
   "metadata": {},
   "source": [
    "### EDA Básico"
   ]
  },
  {
   "cell_type": "code",
   "execution_count": 2,
   "id": "8012584a",
   "metadata": {},
   "outputs": [],
   "source": [
    "df = pd.read_csv('possum.csv')"
   ]
  },
  {
   "cell_type": "code",
   "execution_count": 3,
   "id": "f1c76741",
   "metadata": {},
   "outputs": [
    {
     "data": {
      "text/html": [
       "<div>\n",
       "<style scoped>\n",
       "    .dataframe tbody tr th:only-of-type {\n",
       "        vertical-align: middle;\n",
       "    }\n",
       "\n",
       "    .dataframe tbody tr th {\n",
       "        vertical-align: top;\n",
       "    }\n",
       "\n",
       "    .dataframe thead th {\n",
       "        text-align: right;\n",
       "    }\n",
       "</style>\n",
       "<table border=\"1\" class=\"dataframe\">\n",
       "  <thead>\n",
       "    <tr style=\"text-align: right;\">\n",
       "      <th></th>\n",
       "      <th>case</th>\n",
       "      <th>site</th>\n",
       "      <th>Pop</th>\n",
       "      <th>sex</th>\n",
       "      <th>age</th>\n",
       "      <th>hdlngth</th>\n",
       "      <th>skullw</th>\n",
       "      <th>totlngth</th>\n",
       "      <th>taill</th>\n",
       "      <th>footlgth</th>\n",
       "      <th>earconch</th>\n",
       "      <th>eye</th>\n",
       "      <th>chest</th>\n",
       "      <th>belly</th>\n",
       "    </tr>\n",
       "  </thead>\n",
       "  <tbody>\n",
       "    <tr>\n",
       "      <th>0</th>\n",
       "      <td>1</td>\n",
       "      <td>1</td>\n",
       "      <td>Vic</td>\n",
       "      <td>m</td>\n",
       "      <td>8.0</td>\n",
       "      <td>94.1</td>\n",
       "      <td>60.4</td>\n",
       "      <td>89.0</td>\n",
       "      <td>36.0</td>\n",
       "      <td>74.5</td>\n",
       "      <td>54.5</td>\n",
       "      <td>15.2</td>\n",
       "      <td>28.0</td>\n",
       "      <td>36.0</td>\n",
       "    </tr>\n",
       "    <tr>\n",
       "      <th>1</th>\n",
       "      <td>2</td>\n",
       "      <td>1</td>\n",
       "      <td>Vic</td>\n",
       "      <td>f</td>\n",
       "      <td>6.0</td>\n",
       "      <td>92.5</td>\n",
       "      <td>57.6</td>\n",
       "      <td>91.5</td>\n",
       "      <td>36.5</td>\n",
       "      <td>72.5</td>\n",
       "      <td>51.2</td>\n",
       "      <td>16.0</td>\n",
       "      <td>28.5</td>\n",
       "      <td>33.0</td>\n",
       "    </tr>\n",
       "    <tr>\n",
       "      <th>2</th>\n",
       "      <td>3</td>\n",
       "      <td>1</td>\n",
       "      <td>Vic</td>\n",
       "      <td>f</td>\n",
       "      <td>6.0</td>\n",
       "      <td>94.0</td>\n",
       "      <td>60.0</td>\n",
       "      <td>95.5</td>\n",
       "      <td>39.0</td>\n",
       "      <td>75.4</td>\n",
       "      <td>51.9</td>\n",
       "      <td>15.5</td>\n",
       "      <td>30.0</td>\n",
       "      <td>34.0</td>\n",
       "    </tr>\n",
       "    <tr>\n",
       "      <th>3</th>\n",
       "      <td>4</td>\n",
       "      <td>1</td>\n",
       "      <td>Vic</td>\n",
       "      <td>f</td>\n",
       "      <td>6.0</td>\n",
       "      <td>93.2</td>\n",
       "      <td>57.1</td>\n",
       "      <td>92.0</td>\n",
       "      <td>38.0</td>\n",
       "      <td>76.1</td>\n",
       "      <td>52.2</td>\n",
       "      <td>15.2</td>\n",
       "      <td>28.0</td>\n",
       "      <td>34.0</td>\n",
       "    </tr>\n",
       "    <tr>\n",
       "      <th>4</th>\n",
       "      <td>5</td>\n",
       "      <td>1</td>\n",
       "      <td>Vic</td>\n",
       "      <td>f</td>\n",
       "      <td>2.0</td>\n",
       "      <td>91.5</td>\n",
       "      <td>56.3</td>\n",
       "      <td>85.5</td>\n",
       "      <td>36.0</td>\n",
       "      <td>71.0</td>\n",
       "      <td>53.2</td>\n",
       "      <td>15.1</td>\n",
       "      <td>28.5</td>\n",
       "      <td>33.0</td>\n",
       "    </tr>\n",
       "  </tbody>\n",
       "</table>\n",
       "</div>"
      ],
      "text/plain": [
       "   case  site  Pop sex  age  hdlngth  skullw  totlngth  taill  footlgth  \\\n",
       "0     1     1  Vic   m  8.0     94.1    60.4      89.0   36.0      74.5   \n",
       "1     2     1  Vic   f  6.0     92.5    57.6      91.5   36.5      72.5   \n",
       "2     3     1  Vic   f  6.0     94.0    60.0      95.5   39.0      75.4   \n",
       "3     4     1  Vic   f  6.0     93.2    57.1      92.0   38.0      76.1   \n",
       "4     5     1  Vic   f  2.0     91.5    56.3      85.5   36.0      71.0   \n",
       "\n",
       "   earconch   eye  chest  belly  \n",
       "0      54.5  15.2   28.0   36.0  \n",
       "1      51.2  16.0   28.5   33.0  \n",
       "2      51.9  15.5   30.0   34.0  \n",
       "3      52.2  15.2   28.0   34.0  \n",
       "4      53.2  15.1   28.5   33.0  "
      ]
     },
     "execution_count": 3,
     "metadata": {},
     "output_type": "execute_result"
    }
   ],
   "source": [
    "df.head()"
   ]
  },
  {
   "cell_type": "code",
   "execution_count": 4,
   "id": "b65b9a4e",
   "metadata": {},
   "outputs": [
    {
     "data": {
      "text/html": [
       "<div>\n",
       "<style scoped>\n",
       "    .dataframe tbody tr th:only-of-type {\n",
       "        vertical-align: middle;\n",
       "    }\n",
       "\n",
       "    .dataframe tbody tr th {\n",
       "        vertical-align: top;\n",
       "    }\n",
       "\n",
       "    .dataframe thead th {\n",
       "        text-align: right;\n",
       "    }\n",
       "</style>\n",
       "<table border=\"1\" class=\"dataframe\">\n",
       "  <thead>\n",
       "    <tr style=\"text-align: right;\">\n",
       "      <th></th>\n",
       "      <th>case</th>\n",
       "      <th>site</th>\n",
       "      <th>age</th>\n",
       "      <th>hdlngth</th>\n",
       "      <th>skullw</th>\n",
       "      <th>totlngth</th>\n",
       "      <th>taill</th>\n",
       "      <th>footlgth</th>\n",
       "      <th>earconch</th>\n",
       "      <th>eye</th>\n",
       "      <th>chest</th>\n",
       "      <th>belly</th>\n",
       "    </tr>\n",
       "  </thead>\n",
       "  <tbody>\n",
       "    <tr>\n",
       "      <th>count</th>\n",
       "      <td>104.000000</td>\n",
       "      <td>104.000000</td>\n",
       "      <td>102.000000</td>\n",
       "      <td>104.000000</td>\n",
       "      <td>104.000000</td>\n",
       "      <td>104.000000</td>\n",
       "      <td>104.000000</td>\n",
       "      <td>103.000000</td>\n",
       "      <td>104.000000</td>\n",
       "      <td>104.000000</td>\n",
       "      <td>104.000000</td>\n",
       "      <td>104.000000</td>\n",
       "    </tr>\n",
       "    <tr>\n",
       "      <th>mean</th>\n",
       "      <td>52.500000</td>\n",
       "      <td>3.625000</td>\n",
       "      <td>3.833333</td>\n",
       "      <td>92.602885</td>\n",
       "      <td>56.883654</td>\n",
       "      <td>87.088462</td>\n",
       "      <td>37.009615</td>\n",
       "      <td>68.459223</td>\n",
       "      <td>48.130769</td>\n",
       "      <td>15.046154</td>\n",
       "      <td>27.000000</td>\n",
       "      <td>32.586538</td>\n",
       "    </tr>\n",
       "    <tr>\n",
       "      <th>std</th>\n",
       "      <td>30.166206</td>\n",
       "      <td>2.349086</td>\n",
       "      <td>1.909244</td>\n",
       "      <td>3.573349</td>\n",
       "      <td>3.113426</td>\n",
       "      <td>4.310549</td>\n",
       "      <td>1.959518</td>\n",
       "      <td>4.395306</td>\n",
       "      <td>4.109380</td>\n",
       "      <td>1.050374</td>\n",
       "      <td>2.045597</td>\n",
       "      <td>2.761949</td>\n",
       "    </tr>\n",
       "    <tr>\n",
       "      <th>min</th>\n",
       "      <td>1.000000</td>\n",
       "      <td>1.000000</td>\n",
       "      <td>1.000000</td>\n",
       "      <td>82.500000</td>\n",
       "      <td>50.000000</td>\n",
       "      <td>75.000000</td>\n",
       "      <td>32.000000</td>\n",
       "      <td>60.300000</td>\n",
       "      <td>40.300000</td>\n",
       "      <td>12.800000</td>\n",
       "      <td>22.000000</td>\n",
       "      <td>25.000000</td>\n",
       "    </tr>\n",
       "    <tr>\n",
       "      <th>25%</th>\n",
       "      <td>26.750000</td>\n",
       "      <td>1.000000</td>\n",
       "      <td>2.250000</td>\n",
       "      <td>90.675000</td>\n",
       "      <td>54.975000</td>\n",
       "      <td>84.000000</td>\n",
       "      <td>35.875000</td>\n",
       "      <td>64.600000</td>\n",
       "      <td>44.800000</td>\n",
       "      <td>14.400000</td>\n",
       "      <td>25.500000</td>\n",
       "      <td>31.000000</td>\n",
       "    </tr>\n",
       "    <tr>\n",
       "      <th>50%</th>\n",
       "      <td>52.500000</td>\n",
       "      <td>3.000000</td>\n",
       "      <td>3.000000</td>\n",
       "      <td>92.800000</td>\n",
       "      <td>56.350000</td>\n",
       "      <td>88.000000</td>\n",
       "      <td>37.000000</td>\n",
       "      <td>68.000000</td>\n",
       "      <td>46.800000</td>\n",
       "      <td>14.900000</td>\n",
       "      <td>27.000000</td>\n",
       "      <td>32.500000</td>\n",
       "    </tr>\n",
       "    <tr>\n",
       "      <th>75%</th>\n",
       "      <td>78.250000</td>\n",
       "      <td>6.000000</td>\n",
       "      <td>5.000000</td>\n",
       "      <td>94.725000</td>\n",
       "      <td>58.100000</td>\n",
       "      <td>90.000000</td>\n",
       "      <td>38.000000</td>\n",
       "      <td>72.500000</td>\n",
       "      <td>52.000000</td>\n",
       "      <td>15.725000</td>\n",
       "      <td>28.000000</td>\n",
       "      <td>34.125000</td>\n",
       "    </tr>\n",
       "    <tr>\n",
       "      <th>max</th>\n",
       "      <td>104.000000</td>\n",
       "      <td>7.000000</td>\n",
       "      <td>9.000000</td>\n",
       "      <td>103.100000</td>\n",
       "      <td>68.600000</td>\n",
       "      <td>96.500000</td>\n",
       "      <td>43.000000</td>\n",
       "      <td>77.900000</td>\n",
       "      <td>56.200000</td>\n",
       "      <td>17.800000</td>\n",
       "      <td>32.000000</td>\n",
       "      <td>40.000000</td>\n",
       "    </tr>\n",
       "  </tbody>\n",
       "</table>\n",
       "</div>"
      ],
      "text/plain": [
       "             case        site         age     hdlngth      skullw    totlngth  \\\n",
       "count  104.000000  104.000000  102.000000  104.000000  104.000000  104.000000   \n",
       "mean    52.500000    3.625000    3.833333   92.602885   56.883654   87.088462   \n",
       "std     30.166206    2.349086    1.909244    3.573349    3.113426    4.310549   \n",
       "min      1.000000    1.000000    1.000000   82.500000   50.000000   75.000000   \n",
       "25%     26.750000    1.000000    2.250000   90.675000   54.975000   84.000000   \n",
       "50%     52.500000    3.000000    3.000000   92.800000   56.350000   88.000000   \n",
       "75%     78.250000    6.000000    5.000000   94.725000   58.100000   90.000000   \n",
       "max    104.000000    7.000000    9.000000  103.100000   68.600000   96.500000   \n",
       "\n",
       "            taill    footlgth    earconch         eye       chest       belly  \n",
       "count  104.000000  103.000000  104.000000  104.000000  104.000000  104.000000  \n",
       "mean    37.009615   68.459223   48.130769   15.046154   27.000000   32.586538  \n",
       "std      1.959518    4.395306    4.109380    1.050374    2.045597    2.761949  \n",
       "min     32.000000   60.300000   40.300000   12.800000   22.000000   25.000000  \n",
       "25%     35.875000   64.600000   44.800000   14.400000   25.500000   31.000000  \n",
       "50%     37.000000   68.000000   46.800000   14.900000   27.000000   32.500000  \n",
       "75%     38.000000   72.500000   52.000000   15.725000   28.000000   34.125000  \n",
       "max     43.000000   77.900000   56.200000   17.800000   32.000000   40.000000  "
      ]
     },
     "execution_count": 4,
     "metadata": {},
     "output_type": "execute_result"
    }
   ],
   "source": [
    "df.describe()"
   ]
  },
  {
   "cell_type": "code",
   "execution_count": 5,
   "id": "2ccbb460",
   "metadata": {},
   "outputs": [
    {
     "name": "stdout",
     "output_type": "stream",
     "text": [
      "<class 'pandas.core.frame.DataFrame'>\n",
      "RangeIndex: 104 entries, 0 to 103\n",
      "Data columns (total 14 columns):\n",
      " #   Column    Non-Null Count  Dtype  \n",
      "---  ------    --------------  -----  \n",
      " 0   case      104 non-null    int64  \n",
      " 1   site      104 non-null    int64  \n",
      " 2   Pop       104 non-null    object \n",
      " 3   sex       104 non-null    object \n",
      " 4   age       102 non-null    float64\n",
      " 5   hdlngth   104 non-null    float64\n",
      " 6   skullw    104 non-null    float64\n",
      " 7   totlngth  104 non-null    float64\n",
      " 8   taill     104 non-null    float64\n",
      " 9   footlgth  103 non-null    float64\n",
      " 10  earconch  104 non-null    float64\n",
      " 11  eye       104 non-null    float64\n",
      " 12  chest     104 non-null    float64\n",
      " 13  belly     104 non-null    float64\n",
      "dtypes: float64(10), int64(2), object(2)\n",
      "memory usage: 11.5+ KB\n"
     ]
    }
   ],
   "source": [
    "df.info()"
   ]
  },
  {
   "cell_type": "code",
   "execution_count": 6,
   "id": "1040d609",
   "metadata": {},
   "outputs": [
    {
     "data": {
      "text/plain": [
       "case        0\n",
       "site        0\n",
       "Pop         0\n",
       "sex         0\n",
       "age         2\n",
       "hdlngth     0\n",
       "skullw      0\n",
       "totlngth    0\n",
       "taill       0\n",
       "footlgth    1\n",
       "earconch    0\n",
       "eye         0\n",
       "chest       0\n",
       "belly       0\n",
       "dtype: int64"
      ]
     },
     "execution_count": 6,
     "metadata": {},
     "output_type": "execute_result"
    }
   ],
   "source": [
    "df.isnull().sum()"
   ]
  },
  {
   "cell_type": "code",
   "execution_count": 7,
   "id": "105d4bca",
   "metadata": {},
   "outputs": [],
   "source": [
    "df = df.dropna(axis = 0)"
   ]
  },
  {
   "cell_type": "code",
   "execution_count": 8,
   "id": "b127c2cc",
   "metadata": {},
   "outputs": [
    {
     "data": {
      "text/plain": [
       "case        0\n",
       "site        0\n",
       "Pop         0\n",
       "sex         0\n",
       "age         0\n",
       "hdlngth     0\n",
       "skullw      0\n",
       "totlngth    0\n",
       "taill       0\n",
       "footlgth    0\n",
       "earconch    0\n",
       "eye         0\n",
       "chest       0\n",
       "belly       0\n",
       "dtype: int64"
      ]
     },
     "execution_count": 8,
     "metadata": {},
     "output_type": "execute_result"
    }
   ],
   "source": [
    "df.isnull().sum()"
   ]
  },
  {
   "cell_type": "code",
   "execution_count": 9,
   "id": "e95afa32",
   "metadata": {},
   "outputs": [],
   "source": [
    "df = df.drop([\"case\"], axis = 1)"
   ]
  },
  {
   "cell_type": "code",
   "execution_count": 10,
   "id": "e337b75b",
   "metadata": {},
   "outputs": [],
   "source": [
    "x = df.drop([\"sex\", \"site\", \"Pop\"], axis = 1)\n",
    "y = df[\"sex\"]"
   ]
  },
  {
   "cell_type": "code",
   "execution_count": 11,
   "id": "7b37eb8e",
   "metadata": {},
   "outputs": [
    {
     "data": {
      "text/html": [
       "<div>\n",
       "<style scoped>\n",
       "    .dataframe tbody tr th:only-of-type {\n",
       "        vertical-align: middle;\n",
       "    }\n",
       "\n",
       "    .dataframe tbody tr th {\n",
       "        vertical-align: top;\n",
       "    }\n",
       "\n",
       "    .dataframe thead th {\n",
       "        text-align: right;\n",
       "    }\n",
       "</style>\n",
       "<table border=\"1\" class=\"dataframe\">\n",
       "  <thead>\n",
       "    <tr style=\"text-align: right;\">\n",
       "      <th></th>\n",
       "      <th>age</th>\n",
       "      <th>hdlngth</th>\n",
       "      <th>skullw</th>\n",
       "      <th>totlngth</th>\n",
       "      <th>taill</th>\n",
       "      <th>footlgth</th>\n",
       "      <th>earconch</th>\n",
       "      <th>eye</th>\n",
       "      <th>chest</th>\n",
       "      <th>belly</th>\n",
       "    </tr>\n",
       "  </thead>\n",
       "  <tbody>\n",
       "    <tr>\n",
       "      <th>0</th>\n",
       "      <td>8.0</td>\n",
       "      <td>94.1</td>\n",
       "      <td>60.4</td>\n",
       "      <td>89.0</td>\n",
       "      <td>36.0</td>\n",
       "      <td>74.5</td>\n",
       "      <td>54.5</td>\n",
       "      <td>15.2</td>\n",
       "      <td>28.0</td>\n",
       "      <td>36.0</td>\n",
       "    </tr>\n",
       "    <tr>\n",
       "      <th>1</th>\n",
       "      <td>6.0</td>\n",
       "      <td>92.5</td>\n",
       "      <td>57.6</td>\n",
       "      <td>91.5</td>\n",
       "      <td>36.5</td>\n",
       "      <td>72.5</td>\n",
       "      <td>51.2</td>\n",
       "      <td>16.0</td>\n",
       "      <td>28.5</td>\n",
       "      <td>33.0</td>\n",
       "    </tr>\n",
       "    <tr>\n",
       "      <th>2</th>\n",
       "      <td>6.0</td>\n",
       "      <td>94.0</td>\n",
       "      <td>60.0</td>\n",
       "      <td>95.5</td>\n",
       "      <td>39.0</td>\n",
       "      <td>75.4</td>\n",
       "      <td>51.9</td>\n",
       "      <td>15.5</td>\n",
       "      <td>30.0</td>\n",
       "      <td>34.0</td>\n",
       "    </tr>\n",
       "    <tr>\n",
       "      <th>3</th>\n",
       "      <td>6.0</td>\n",
       "      <td>93.2</td>\n",
       "      <td>57.1</td>\n",
       "      <td>92.0</td>\n",
       "      <td>38.0</td>\n",
       "      <td>76.1</td>\n",
       "      <td>52.2</td>\n",
       "      <td>15.2</td>\n",
       "      <td>28.0</td>\n",
       "      <td>34.0</td>\n",
       "    </tr>\n",
       "    <tr>\n",
       "      <th>4</th>\n",
       "      <td>2.0</td>\n",
       "      <td>91.5</td>\n",
       "      <td>56.3</td>\n",
       "      <td>85.5</td>\n",
       "      <td>36.0</td>\n",
       "      <td>71.0</td>\n",
       "      <td>53.2</td>\n",
       "      <td>15.1</td>\n",
       "      <td>28.5</td>\n",
       "      <td>33.0</td>\n",
       "    </tr>\n",
       "    <tr>\n",
       "      <th>...</th>\n",
       "      <td>...</td>\n",
       "      <td>...</td>\n",
       "      <td>...</td>\n",
       "      <td>...</td>\n",
       "      <td>...</td>\n",
       "      <td>...</td>\n",
       "      <td>...</td>\n",
       "      <td>...</td>\n",
       "      <td>...</td>\n",
       "      <td>...</td>\n",
       "    </tr>\n",
       "    <tr>\n",
       "      <th>99</th>\n",
       "      <td>1.0</td>\n",
       "      <td>89.5</td>\n",
       "      <td>56.0</td>\n",
       "      <td>81.5</td>\n",
       "      <td>36.5</td>\n",
       "      <td>66.0</td>\n",
       "      <td>46.8</td>\n",
       "      <td>14.8</td>\n",
       "      <td>23.0</td>\n",
       "      <td>27.0</td>\n",
       "    </tr>\n",
       "    <tr>\n",
       "      <th>100</th>\n",
       "      <td>1.0</td>\n",
       "      <td>88.6</td>\n",
       "      <td>54.7</td>\n",
       "      <td>82.5</td>\n",
       "      <td>39.0</td>\n",
       "      <td>64.4</td>\n",
       "      <td>48.0</td>\n",
       "      <td>14.0</td>\n",
       "      <td>25.0</td>\n",
       "      <td>33.0</td>\n",
       "    </tr>\n",
       "    <tr>\n",
       "      <th>101</th>\n",
       "      <td>6.0</td>\n",
       "      <td>92.4</td>\n",
       "      <td>55.0</td>\n",
       "      <td>89.0</td>\n",
       "      <td>38.0</td>\n",
       "      <td>63.5</td>\n",
       "      <td>45.4</td>\n",
       "      <td>13.0</td>\n",
       "      <td>25.0</td>\n",
       "      <td>30.0</td>\n",
       "    </tr>\n",
       "    <tr>\n",
       "      <th>102</th>\n",
       "      <td>4.0</td>\n",
       "      <td>91.5</td>\n",
       "      <td>55.2</td>\n",
       "      <td>82.5</td>\n",
       "      <td>36.5</td>\n",
       "      <td>62.9</td>\n",
       "      <td>45.9</td>\n",
       "      <td>15.4</td>\n",
       "      <td>25.0</td>\n",
       "      <td>29.0</td>\n",
       "    </tr>\n",
       "    <tr>\n",
       "      <th>103</th>\n",
       "      <td>3.0</td>\n",
       "      <td>93.6</td>\n",
       "      <td>59.9</td>\n",
       "      <td>89.0</td>\n",
       "      <td>40.0</td>\n",
       "      <td>67.6</td>\n",
       "      <td>46.0</td>\n",
       "      <td>14.8</td>\n",
       "      <td>28.5</td>\n",
       "      <td>33.5</td>\n",
       "    </tr>\n",
       "  </tbody>\n",
       "</table>\n",
       "<p>101 rows × 10 columns</p>\n",
       "</div>"
      ],
      "text/plain": [
       "     age  hdlngth  skullw  totlngth  taill  footlgth  earconch   eye  chest  \\\n",
       "0    8.0     94.1    60.4      89.0   36.0      74.5      54.5  15.2   28.0   \n",
       "1    6.0     92.5    57.6      91.5   36.5      72.5      51.2  16.0   28.5   \n",
       "2    6.0     94.0    60.0      95.5   39.0      75.4      51.9  15.5   30.0   \n",
       "3    6.0     93.2    57.1      92.0   38.0      76.1      52.2  15.2   28.0   \n",
       "4    2.0     91.5    56.3      85.5   36.0      71.0      53.2  15.1   28.5   \n",
       "..   ...      ...     ...       ...    ...       ...       ...   ...    ...   \n",
       "99   1.0     89.5    56.0      81.5   36.5      66.0      46.8  14.8   23.0   \n",
       "100  1.0     88.6    54.7      82.5   39.0      64.4      48.0  14.0   25.0   \n",
       "101  6.0     92.4    55.0      89.0   38.0      63.5      45.4  13.0   25.0   \n",
       "102  4.0     91.5    55.2      82.5   36.5      62.9      45.9  15.4   25.0   \n",
       "103  3.0     93.6    59.9      89.0   40.0      67.6      46.0  14.8   28.5   \n",
       "\n",
       "     belly  \n",
       "0     36.0  \n",
       "1     33.0  \n",
       "2     34.0  \n",
       "3     34.0  \n",
       "4     33.0  \n",
       "..     ...  \n",
       "99    27.0  \n",
       "100   33.0  \n",
       "101   30.0  \n",
       "102   29.0  \n",
       "103   33.5  \n",
       "\n",
       "[101 rows x 10 columns]"
      ]
     },
     "execution_count": 11,
     "metadata": {},
     "output_type": "execute_result"
    }
   ],
   "source": [
    "x"
   ]
  },
  {
   "cell_type": "code",
   "execution_count": 12,
   "id": "e68574ef",
   "metadata": {},
   "outputs": [
    {
     "data": {
      "text/plain": [
       "0      m\n",
       "1      f\n",
       "2      f\n",
       "3      f\n",
       "4      f\n",
       "      ..\n",
       "99     m\n",
       "100    m\n",
       "101    f\n",
       "102    m\n",
       "103    f\n",
       "Name: sex, Length: 101, dtype: object"
      ]
     },
     "execution_count": 12,
     "metadata": {},
     "output_type": "execute_result"
    }
   ],
   "source": [
    "y"
   ]
  },
  {
   "cell_type": "code",
   "execution_count": 13,
   "id": "7d27e746",
   "metadata": {},
   "outputs": [
    {
     "data": {
      "text/plain": [
       "0      1\n",
       "1      0\n",
       "2      0\n",
       "3      0\n",
       "4      0\n",
       "      ..\n",
       "99     1\n",
       "100    1\n",
       "101    0\n",
       "102    1\n",
       "103    0\n",
       "Name: sex, Length: 101, dtype: int64"
      ]
     },
     "execution_count": 13,
     "metadata": {},
     "output_type": "execute_result"
    }
   ],
   "source": [
    "lambda_func = lambda x: 1 if x==\"m\" else 0\n",
    "y = y.apply(lambda_func)\n",
    "y"
   ]
  },
  {
   "cell_type": "markdown",
   "id": "2f2ac369",
   "metadata": {},
   "source": [
    "### Standarización"
   ]
  },
  {
   "cell_type": "code",
   "execution_count": 14,
   "id": "15ed684c",
   "metadata": {},
   "outputs": [],
   "source": [
    "# StandardScaler\n",
    "scaler = StandardScaler()\n",
    "scaler.fit(x)\n",
    "x = scaler.transform(x)"
   ]
  },
  {
   "cell_type": "code",
   "execution_count": 15,
   "id": "fd88de23",
   "metadata": {},
   "outputs": [
    {
     "data": {
      "text/plain": [
       "<AxesSubplot:>"
      ]
     },
     "execution_count": 15,
     "metadata": {},
     "output_type": "execute_result"
    },
    {
     "data": {
      "image/png": "[encoded data removed]",
      "text/plain": [
       "<Figure size 720x720 with 2 Axes>"
      ]
     },
     "metadata": {
      "needs_background": "light"
     },
     "output_type": "display_data"
    }
   ],
   "source": [
    "corr = pd.DataFrame(x).corr()\n",
    "f, ax = plt.subplots(figsize=(10, 10))\n",
    "sns.heatmap(corr,center=0, annot=True)"
   ]
  },
  {
   "cell_type": "markdown",
   "id": "af507425",
   "metadata": {},
   "source": [
    "### Regresion Logistica"
   ]
  },
  {
   "cell_type": "code",
   "execution_count": 16,
   "id": "57991298",
   "metadata": {},
   "outputs": [],
   "source": [
    "x_train, x_test, y_train, y_test = train_test_split(x, y, test_size = 0.25, random_state = 10)"
   ]
  },
  {
   "cell_type": "code",
   "execution_count": 17,
   "id": "841dc0b5",
   "metadata": {},
   "outputs": [
    {
     "data": {
      "text/plain": [
       "LogisticRegression(max_iter=1000)"
      ]
     },
     "execution_count": 17,
     "metadata": {},
     "output_type": "execute_result"
    }
   ],
   "source": [
    "# Hacer el fit del modelo\n",
    "logistic_regression = LogisticRegression(max_iter=1000)\n",
    "logistic_regression.fit(x_train, y_train)"
   ]
  },
  {
   "cell_type": "code",
   "execution_count": 18,
   "id": "4e846e1a",
   "metadata": {},
   "outputs": [],
   "source": [
    "predicts = logistic_regression.predict(x_test)"
   ]
  },
  {
   "cell_type": "code",
   "execution_count": 19,
   "id": "e87d915a",
   "metadata": {},
   "outputs": [
    {
     "data": {
      "text/plain": [
       "array([1, 1, 1, 1, 1, 0, 1, 0, 0, 1, 0, 0, 0, 1, 0, 1, 1, 1, 1, 0, 0, 0,\n",
       "       1, 0, 1, 1])"
      ]
     },
     "execution_count": 19,
     "metadata": {},
     "output_type": "execute_result"
    }
   ],
   "source": [
    "predicts"
   ]
  },
  {
   "cell_type": "code",
   "execution_count": 20,
   "id": "a3aa9242",
   "metadata": {},
   "outputs": [
    {
     "name": "stdout",
     "output_type": "stream",
     "text": [
      "Accuracy 0.6153846153846154\n",
      "Precision 0.6\n",
      "Recall 0.6923076923076923\n"
     ]
    }
   ],
   "source": [
    "acc = accuracy_score(y_test, predicts)\n",
    "prec = precision_score(y_test, predicts)\n",
    "rec = recall_score(y_test, predicts)\n",
    "print(\"Accuracy\", acc)\n",
    "print(\"Precision\", prec)\n",
    "print(\"Recall\", rec)"
   ]
  },
  {
   "cell_type": "markdown",
   "id": "fd81b2ff",
   "metadata": {},
   "source": [
    "### Regresion Logistica con PCA"
   ]
  },
  {
   "cell_type": "code",
   "execution_count": 21,
   "id": "edfd427f",
   "metadata": {},
   "outputs": [],
   "source": [
    "pca = PCA(n_components=2).fit(x)\n",
    "X_pca = pca.transform(x)"
   ]
  },
  {
   "cell_type": "code",
   "execution_count": 22,
   "id": "9b0a1021",
   "metadata": {},
   "outputs": [],
   "source": [
    "x_train, x_test, y_train, y_test = train_test_split(X_pca, y, test_size = 0.25, random_state = 10)"
   ]
  },
  {
   "cell_type": "code",
   "execution_count": 23,
   "id": "d25f0393",
   "metadata": {},
   "outputs": [
    {
     "data": {
      "text/plain": [
       "LogisticRegression(max_iter=1000)"
      ]
     },
     "execution_count": 23,
     "metadata": {},
     "output_type": "execute_result"
    }
   ],
   "source": [
    "logRegPca = LogisticRegression(max_iter=1000)\n",
    "logRegPca.fit(x_train, y_train)"
   ]
  },
  {
   "cell_type": "code",
   "execution_count": 24,
   "id": "38fc94a7",
   "metadata": {},
   "outputs": [
    {
     "data": {
      "text/plain": [
       "array([1, 1, 1, 1, 1, 1, 1, 1, 1, 1, 1, 1, 1, 1, 1, 1, 1, 1, 1, 1, 1, 1,\n",
       "       1, 1, 1, 1])"
      ]
     },
     "execution_count": 24,
     "metadata": {},
     "output_type": "execute_result"
    }
   ],
   "source": [
    "preds = logRegPca.predict(x_test)\n",
    "preds"
   ]
  },
  {
   "cell_type": "code",
   "execution_count": 25,
   "id": "d4a49a80",
   "metadata": {},
   "outputs": [
    {
     "name": "stdout",
     "output_type": "stream",
     "text": [
      "Accuracy 0.5\n",
      "Precision 0.5\n",
      "Recall 1.0\n"
     ]
    }
   ],
   "source": [
    "acc = accuracy_score(y_test, preds)\n",
    "prec = precision_score(y_test, preds)\n",
    "rec = recall_score(y_test, preds)\n",
    "print(\"Accuracy\", acc)\n",
    "print(\"Precision\", prec)\n",
    "print(\"Recall\", rec)"
   ]
  },
  {
   "cell_type": "markdown",
   "id": "40742aab",
   "metadata": {},
   "source": [
    "### Clasificación con SGD"
   ]
  },
  {
   "cell_type": "code",
   "execution_count": 31,
   "id": "a620df89",
   "metadata": {},
   "outputs": [],
   "source": [
    "X_train, X_test, y_train, y_test = train_test_split(x, y, test_size = 0.25, random_state = 10)"
   ]
  },
  {
   "cell_type": "code",
   "execution_count": 32,
   "id": "7ec32ae4",
   "metadata": {},
   "outputs": [],
   "source": [
    "clf = SGDClassifier(max_iter=1000, tol=1e-3)"
   ]
  },
  {
   "cell_type": "code",
   "execution_count": 33,
   "id": "81c08a70",
   "metadata": {},
   "outputs": [
    {
     "data": {
      "text/plain": [
       "SGDClassifier()"
      ]
     },
     "execution_count": 33,
     "metadata": {},
     "output_type": "execute_result"
    }
   ],
   "source": [
    "clf.fit(X_train, y_train)"
   ]
  },
  {
   "cell_type": "code",
   "execution_count": 34,
   "id": "749cfcb5",
   "metadata": {},
   "outputs": [
    {
     "data": {
      "text/plain": [
       "array([1, 1, 1, 0, 0, 0, 1, 1, 1, 1, 0, 0, 0, 1, 1, 1, 1, 1, 1, 1, 0, 1,\n",
       "       1, 1, 1, 1])"
      ]
     },
     "execution_count": 34,
     "metadata": {},
     "output_type": "execute_result"
    }
   ],
   "source": [
    "predicts = clf.predict(X_test)\n",
    "predicts"
   ]
  },
  {
   "cell_type": "code",
   "execution_count": 35,
   "id": "1357010e",
   "metadata": {},
   "outputs": [
    {
     "name": "stdout",
     "output_type": "stream",
     "text": [
      "Accuracy 0.6153846153846154\n",
      "Precision 0.5789473684210527\n",
      "Recall 0.8461538461538461\n"
     ]
    }
   ],
   "source": [
    "acc = accuracy_score(y_test, predicts)\n",
    "prec = precision_score(y_test, predicts)\n",
    "rec = recall_score(y_test, predicts)\n",
    "print(\"Accuracy\", acc)\n",
    "print(\"Precision\", prec)\n",
    "print(\"Recall\", rec)"
   ]
  },
  {
   "cell_type": "markdown",
   "id": "d7feebd4",
   "metadata": {},
   "source": [
    "### K nearest neighbor"
   ]
  },
  {
   "cell_type": "code",
   "execution_count": 36,
   "id": "02b43502",
   "metadata": {},
   "outputs": [],
   "source": [
    "neigh = KNeighborsClassifier(n_neighbors=2)"
   ]
  },
  {
   "cell_type": "code",
   "execution_count": 37,
   "id": "da43bd4c",
   "metadata": {},
   "outputs": [
    {
     "data": {
      "text/plain": [
       "KNeighborsClassifier(n_neighbors=2)"
      ]
     },
     "execution_count": 37,
     "metadata": {},
     "output_type": "execute_result"
    }
   ],
   "source": [
    "neigh.fit(X_train, y_train)"
   ]
  },
  {
   "cell_type": "code",
   "execution_count": 38,
   "id": "ef3a5253",
   "metadata": {},
   "outputs": [
    {
     "data": {
      "text/plain": [
       "array([1, 1, 1, 0, 1, 0, 0, 0, 0, 0, 1, 0, 0, 0, 0, 0, 1, 0, 1, 1, 0, 0,\n",
       "       0, 0, 1, 0])"
      ]
     },
     "execution_count": 38,
     "metadata": {},
     "output_type": "execute_result"
    }
   ],
   "source": [
    "predicts = neigh.predict(X_test)\n",
    "predicts"
   ]
  },
  {
   "cell_type": "code",
   "execution_count": 39,
   "id": "d6018682",
   "metadata": {},
   "outputs": [
    {
     "name": "stdout",
     "output_type": "stream",
     "text": [
      "Accuracy 0.5384615384615384\n",
      "Precision 0.5555555555555556\n",
      "Recall 0.38461538461538464\n"
     ]
    }
   ],
   "source": [
    "acc = accuracy_score(y_test, predicts)\n",
    "prec = precision_score(y_test, predicts)\n",
    "rec = recall_score(y_test, predicts)\n",
    "print(\"Accuracy\", acc)\n",
    "print(\"Precision\", prec)\n",
    "print(\"Recall\", rec)"
   ]
  },
  {
   "cell_type": "markdown",
   "id": "66a2aa55",
   "metadata": {},
   "source": [
    "### Naive Bayes (segun internet es lo mejor para clasificacion binaria)"
   ]
  },
  {
   "cell_type": "code",
   "execution_count": 40,
   "id": "d314d78e",
   "metadata": {},
   "outputs": [],
   "source": [
    "gnb = GaussianNB()"
   ]
  },
  {
   "cell_type": "code",
   "execution_count": 41,
   "id": "be060290",
   "metadata": {},
   "outputs": [
    {
     "data": {
      "text/plain": [
       "GaussianNB()"
      ]
     },
     "execution_count": 41,
     "metadata": {},
     "output_type": "execute_result"
    }
   ],
   "source": [
    "gnb.fit(X_train, y_train)"
   ]
  },
  {
   "cell_type": "code",
   "execution_count": 42,
   "id": "9655e999",
   "metadata": {},
   "outputs": [
    {
     "data": {
      "text/plain": [
       "array([1, 1, 1, 0, 1, 0, 0, 0, 0, 0, 1, 0, 0, 1, 0, 1, 1, 0, 1, 1, 1, 0,\n",
       "       0, 1, 1, 1])"
      ]
     },
     "execution_count": 42,
     "metadata": {},
     "output_type": "execute_result"
    }
   ],
   "source": [
    "predicts = gnb.predict(X_test)\n",
    "predicts"
   ]
  },
  {
   "cell_type": "code",
   "execution_count": 43,
   "id": "724ba823",
   "metadata": {},
   "outputs": [
    {
     "name": "stdout",
     "output_type": "stream",
     "text": [
      "Accuracy 0.6538461538461539\n",
      "Precision 0.6428571428571429\n",
      "Recall 0.6923076923076923\n"
     ]
    }
   ],
   "source": [
    "acc = accuracy_score(y_test, predicts)\n",
    "prec = precision_score(y_test, predicts)\n",
    "rec = recall_score(y_test, predicts)\n",
    "print(\"Accuracy\", acc)\n",
    "print(\"Precision\", prec)\n",
    "print(\"Recall\", rec)"
   ]
  },
  {
   "cell_type": "markdown",
   "id": "71955e1b",
   "metadata": {},
   "source": [
    "### Regresion Lineal"
   ]
  },
  {
   "cell_type": "code",
   "execution_count": 45,
   "id": "6218cb1f",
   "metadata": {},
   "outputs": [],
   "source": [
    "#Preparamos dataset para regresion lineal\n",
    "\n",
    "df = pd.read_csv('possum.csv')\n",
    "df = df.dropna(axis = 0) #Borramos los null\n",
    "df = df.drop([\"case\"], axis = 1) #Eliminamos columna Case\n",
    "x = df.drop([ \"site\", \"Pop\", \"totlngth\"], axis = 1) #Eliminamos columnas que no usaremos\n",
    "lambda_func = lambda x: 1 if x==\"m\" else 0\n",
    "x['sex'] = x['sex'].apply(lambda_func) #Encoding de feature \"sex\"\n",
    "y = df[\"totlngth\"] #Defino labels\n",
    "\n",
    "scaler = StandardScaler()\n",
    "scaler.fit(x)\n",
    "x = scaler.transform(x)\n"
   ]
  },
  {
   "cell_type": "code",
   "execution_count": 46,
   "id": "67319b1a",
   "metadata": {},
   "outputs": [],
   "source": [
    "x_train, x_test, y_train, y_test = train_test_split(x, y, test_size = 0.25, random_state = 10)"
   ]
  },
  {
   "cell_type": "code",
   "execution_count": 47,
   "id": "d5cd9606",
   "metadata": {},
   "outputs": [
    {
     "data": {
      "text/plain": [
       "LinearRegression()"
      ]
     },
     "execution_count": 47,
     "metadata": {},
     "output_type": "execute_result"
    }
   ],
   "source": [
    "# Hacer el fit del modelo\n",
    "linear_regression = LinearRegression()\n",
    "linear_regression.fit(x_train, y_train)\n"
   ]
  },
  {
   "cell_type": "code",
   "execution_count": 48,
   "id": "ca0b4d28",
   "metadata": {},
   "outputs": [],
   "source": [
    "predicts = linear_regression.predict(x_test)"
   ]
  },
  {
   "cell_type": "code",
   "execution_count": 49,
   "id": "74a9e8b0",
   "metadata": {},
   "outputs": [
    {
     "name": "stdout",
     "output_type": "stream",
     "text": [
      "2.7179546713805145\n"
     ]
    }
   ],
   "source": [
    "from sklearn.metrics import mean_squared_error\n",
    "rmse = mean_squared_error(y_test, predicts, squared=False)\n",
    "print(rmse)"
   ]
  },
  {
   "cell_type": "code",
   "execution_count": 50,
   "id": "bc296509",
   "metadata": {},
   "outputs": [
    {
     "data": {
      "image/png": "[encoded data removed]",
      "text/plain": [
       "<Figure size 432x288 with 1 Axes>"
      ]
     },
     "metadata": {
      "needs_background": "light"
     },
     "output_type": "display_data"
    }
   ],
   "source": [
    "x_copy = x.copy()\n",
    "#Aplicamos PCA para ver la forma de los datos\n",
    "\n",
    "pca = PCA(n_components=1).fit(x_copy)\n",
    "X_pca = pca.transform(x_copy)\n",
    "\n",
    "plt.scatter(X_pca, y)\n",
    "plt.xlabel('X_pca')\n",
    "plt.ylabel('y')\n",
    "plt.show()"
   ]
  },
  {
   "cell_type": "code",
   "execution_count": 51,
   "id": "0aeebbf0",
   "metadata": {},
   "outputs": [
    {
     "name": "stdout",
     "output_type": "stream",
     "text": [
      "El polinomio optimo es de grado: 1\n",
      "El RMSE con polinomio optimo es: 3.3288295215288968\n"
     ]
    },
    {
     "data": {
      "image/png": "[encoded data removed]",
      "text/plain": [
       "<Figure size 432x288 with 1 Axes>"
      ]
     },
     "metadata": {
      "needs_background": "light"
     },
     "output_type": "display_data"
    }
   ],
   "source": [
    "poly_degrees = [1, 2, 3, 4, 5, 6, 7, 8, 9, 10] #Distintos grados de polinomio para probar el modelo\n",
    "\n",
    "#Prueba inicial con polinomio grado 2:\n",
    "poly = PolynomialFeatures(degree=2, include_bias=False) #Defino caracteristicas del polinomio\n",
    "poly_features = poly.fit_transform(X_pca) #Hago fit con el polinomio definido\n",
    "x_train, x_test, y_train, y_test = train_test_split(poly_features, y, test_size = 0.25, random_state = 10)\n",
    "poly_reg_model = LinearRegression()\n",
    "poly_reg_model.fit(x_train, y_train)\n",
    "y_predicted = poly_reg_model.predict(x_test)\n",
    "rmse = mean_squared_error(y_test, y_predicted, squared=False)\n",
    "\n",
    "\n",
    "rmse_tuned = np.zeros(len(poly_degrees))\n",
    "\n",
    "\n",
    "for a in range(len(poly_degrees)):\n",
    "    poly = PolynomialFeatures(degree=poly_degrees[a], include_bias=False) \n",
    "    poly_features = poly.fit_transform(X_pca) \n",
    "    x_train, x_test, y_train, y_test = train_test_split(poly_features, y, test_size = 0.25, random_state = 10)\n",
    "    poly_reg_model = LinearRegression()\n",
    "    poly_reg_model.fit(x_train, y_train)\n",
    "    y_predicted = poly_reg_model.predict(x_test)\n",
    "    rmse_tuned[a] = mean_squared_error(y_test, y_predicted, squared=False)\n",
    "    \n",
    "\n",
    "optimal_degree = poly_degrees[np.argmin(rmse_tuned)] \n",
    "\n",
    "\n",
    "#Ploteo con polinomio optimo\n",
    "poly = PolynomialFeatures(degree=optimal_degree, include_bias=False) #Defino caracteristicas del polinomio\n",
    "poly_features = poly.fit_transform(X_pca) #Hago fit con el polinomio definido\n",
    "x_train, x_test, y_train, y_test = train_test_split(poly_features, y, test_size = 0.25, random_state = 10)\n",
    "poly_reg_model = LinearRegression()\n",
    "poly_reg_model.fit(x_train, y_train)\n",
    "y_predicted = poly_reg_model.predict(x_test)\n",
    "rmse = mean_squared_error(y_test, y_predicted, squared=False)\n",
    "\n",
    "print(f\"El polinomio optimo es de grado: {optimal_degree}\")\n",
    "print(f\"El RMSE con polinomio optimo es: {rmse}\")\n",
    "\n",
    "plt.scatter(x_test, y_test, color='g')\n",
    "plt.plot(x_test, y_predicted, color='k')\n",
    "plt.show()\n",
    "\n"
   ]
  },
  {
   "cell_type": "markdown",
   "id": "b6848152",
   "metadata": {},
   "source": [
    "### Regresion ElasticNet"
   ]
  },
  {
   "cell_type": "code",
   "execution_count": 52,
   "id": "23e31119",
   "metadata": {},
   "outputs": [
    {
     "name": "stdout",
     "output_type": "stream",
     "text": [
      "Los coeficientes del modelo con hiperparametros default son: [-0.14794175  0.          1.05697793  0.10258667  0.76853208  0.65951564\n",
      "  0.          0.          0.42880552  0.02895549]\n",
      "La constante del modelo con hiperparametros defalut es: 87.35027631801822\n",
      "R2 score con hiperparametros default: 0.5052786608808537\n",
      "RMSE con hiperparametros default: 3.155442255373749\n",
      "\n"
     ]
    },
    {
     "data": {
      "image/png": "[encoded data removed]",
      "text/plain": [
       "<Figure size 432x288 with 1 Axes>"
      ]
     },
     "metadata": {
      "needs_background": "light"
     },
     "output_type": "display_data"
    },
    {
     "data": {
      "image/png": "[encoded data removed]",
      "text/plain": [
       "<Figure size 432x288 with 1 Axes>"
      ]
     },
     "metadata": {
      "needs_background": "light"
     },
     "output_type": "display_data"
    },
    {
     "name": "stdout",
     "output_type": "stream",
     "text": [
      "Los coeficientes del modelo con Alfa=0.1 son: [-0.67339628 -0.02831544  1.63163331  0.          1.59656194  0.95062207\n",
      "  0.40113389  0.04373768  0.36037156 -0.03676766]\n",
      "La constante del modelo con Alfa=0.1 es: 87.30016194208243\n",
      "R2 score ccon Alfa=0.1: 0.6436562784213749\n",
      "RMSE con Alfa=0.1: 2.6780240380795575\n"
     ]
    }
   ],
   "source": [
    "X_train, X_test, y_train, y_test = train_test_split(x, y, test_size = 0.25, random_state = 10)\n",
    "\n",
    "#Defino el modelo - Empiezo probando con hiperparametros default: alpha=1, l1_ratio=0.5\n",
    "enet_model = ElasticNet().fit(X_train, y_train)\n",
    "print(f\"Los coeficientes del modelo con hiperparametros default son: {enet_model.coef_ }\")\n",
    "print(f\"La constante del modelo con hiperparametros defalut es: {enet_model.intercept_}\")\n",
    "\n",
    "y_pred = enet_model.predict(X_test)\n",
    "\n",
    "RMSE = mean_squared_error(y_test,y_pred, squared= False)\n",
    "R2 = r2_score(y_test,y_pred)\n",
    "print(f\"R2 score con hiperparametros default: {R2}\")\n",
    "print(f\"RMSE con hiperparametros default: {RMSE}\\n\")\n",
    "#print(f\"Las variables independientes en este modelo explican el {round (R2 * 100, 2)}% del cambio en las variables dependientes para este dataset\")\n",
    "\n",
    "#Tuning del modelo: Encontrar los hiperparametros optimos (Es un poco confuso porque Sklearn llama \"alfa\" al lambda y L1_ratio al Alfa)\n",
    "alphas = [0.0001, 0.001, 0.003, 0.005, 0.007, 0.01, 0.02, 0.03, 0.05, 0.07, 0.1, 0.3, 0.5, 0.7, 1]\n",
    "RMSE_tuned = np.zeros(len(alphas))\n",
    "R2_tuned = np.zeros(len(alphas))\n",
    "\n",
    "for a in range(len(alphas)):\n",
    "    model = ElasticNet(alpha=alphas[a]).fit(X_train,y_train)   \n",
    "    y_pred = model.predict(X_test)\n",
    "    R2_tuned[a] = r2_score(y_test,y_pred)\n",
    "    RMSE_tuned[a] = mean_squared_error(y_test, y_pred, squared=False) \n",
    "\n",
    "#Grafico\n",
    "plt.plot(alphas, RMSE_tuned)\n",
    "plt.xlabel('Hiperparametro Alfa')\n",
    "plt.ylabel('RMSE')\n",
    "plt.show()\n",
    "plt.figure()\n",
    "plt.plot(alphas, R2_tuned, color='r')\n",
    "plt.xlabel('Hiperparametro Alfa')\n",
    "plt.ylabel('R2 score')\n",
    "plt.show()\n",
    "\n",
    "optimal_alpha = alphas[np.argmin(RMSE_tuned)]\n",
    "\n",
    "#Modelo final\n",
    "enet_tuned = ElasticNet(alpha = optimal_alpha).fit(X_train,y_train)\n",
    "y_pred_tuned = enet_tuned.predict(X_test)\n",
    "R2_tuned = r2_score(y_test,y_pred_tuned)\n",
    "RMSE_tuned= mean_squared_error(y_test,y_pred_tuned, squared=False)\n",
    "\n",
    "print(f\"Los coeficientes del modelo con Alfa={optimal_alpha} son: {enet_tuned.coef_ }\")\n",
    "print(f\"La constante del modelo con Alfa={optimal_alpha} es: {enet_tuned.intercept_}\")\n",
    "print(f\"R2 score ccon Alfa={optimal_alpha}: {R2_tuned}\")\n",
    "print(f\"RMSE con Alfa={optimal_alpha}: {RMSE_tuned}\")"
   ]
  },
  {
   "cell_type": "markdown",
   "id": "7cab1b24",
   "metadata": {},
   "source": [
    "### Conclusiones: \n",
    "#### ElasticNet ajusta mejor a los datos que Regresion lineal aunque la mejora no es significativa debido a la naturaleza de los datos\n",
    "#### Regresion logistica comun predice mejor que SGD dado que para calcular el optimo utiliza metodos numericos y SGD utiliza Gradiente Descendiente Estocastico\n",
    "#### Para comparar, probamos con otros modelos no vistos en clase, como Naive Bayes y K Neighbors que son conocidos por performar mejor, y los resultados lo comprueban."
   ]
  }
 ],
 "metadata": {
  "kernelspec": {
   "display_name": "Python 3",
   "language": "python",
   "name": "python3"
  },
  "language_info": {
   "codemirror_mode": {
    "name": "ipython",
    "version": 3
   },
   "file_extension": ".py",
   "mimetype": "text/x-python",
   "name": "python",
   "nbconvert_exporter": "python",
   "pygments_lexer": "ipython3",
   "version": "3.8.8"
  }
 },
 "nbformat": 4,
 "nbformat_minor": 5
}
