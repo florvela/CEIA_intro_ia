{
 "cells": [
  {
   "cell_type": "markdown",
   "id": "29ca9dda",
   "metadata": {},
   "source": [
    "# Guia de Ejercicios\n",
    "## Ejercicio 1: Operaciones Matriciales\n",
    "Dada una matriz en formato numpy array, donde cada fila de la matriz representa un vector matemático:"
   ]
  },
  {
   "cell_type": "code",
   "execution_count": 2,
   "id": "7fee37fc",
   "metadata": {},
   "outputs": [],
   "source": [
    "import numpy as np"
   ]
  },
  {
   "cell_type": "code",
   "execution_count": 194,
   "id": "5c167279",
   "metadata": {},
   "outputs": [
    {
     "data": {
      "text/plain": [
       "array([[5, 9, 6],\n",
       "       [4, 7, 9],\n",
       "       [7, 2, 1]])"
      ]
     },
     "execution_count": 194,
     "metadata": {},
     "output_type": "execute_result"
    }
   ],
   "source": [
    "m = np.random.randint(low=0, high=10, size=(3,3))\n",
    "m"
   ]
  },
  {
   "cell_type": "markdown",
   "id": "d3ed90b1",
   "metadata": {},
   "source": [
    "### L0: número de elementos diferentes a cero en el vector."
   ]
  },
  {
   "cell_type": "code",
   "execution_count": 195,
   "id": "b57c8388",
   "metadata": {},
   "outputs": [
    {
     "data": {
      "text/plain": [
       "array([3, 3, 3])"
      ]
     },
     "execution_count": 195,
     "metadata": {},
     "output_type": "execute_result"
    }
   ],
   "source": [
    "np.sum(m > 0, axis=1)"
   ]
  },
  {
   "cell_type": "markdown",
   "id": "64742382",
   "metadata": {},
   "source": [
    "### L1 and L2"
   ]
  },
  {
   "attachments": {
    "Lp.svg": {
     "image/svg+xml": [
      "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"
     ]
    }
   },
   "cell_type": "markdown",
   "id": "5ecfe3bf",
   "metadata": {},
   "source": [
    "![Lp.svg](attachment:Lp.svg)"
   ]
  },
  {
   "cell_type": "code",
   "execution_count": 196,
   "id": "20ed9cfe",
   "metadata": {},
   "outputs": [],
   "source": [
    "def lp_norm(m, p=1):\n",
    "    abs_m = np.abs(m)\n",
    "    return np.sum(abs_m ** p, axis=1)**(1/p)"
   ]
  },
  {
   "cell_type": "code",
   "execution_count": 197,
   "id": "57f79d89",
   "metadata": {},
   "outputs": [
    {
     "name": "stdout",
     "output_type": "stream",
     "text": [
      "[20. 20. 10.]\n"
     ]
    }
   ],
   "source": [
    "l1 = lp_norm(m, p=1)\n",
    "print(l1)"
   ]
  },
  {
   "cell_type": "code",
   "execution_count": 198,
   "id": "d24cf6b1",
   "metadata": {},
   "outputs": [
    {
     "name": "stdout",
     "output_type": "stream",
     "text": [
      "[11.91637529 12.08304597  7.34846923]\n"
     ]
    }
   ],
   "source": [
    "l2 = lp_norm(m, p=2)\n",
    "print(l2)"
   ]
  },
  {
   "cell_type": "markdown",
   "id": "57084d1e",
   "metadata": {},
   "source": [
    "### L-infinite"
   ]
  },
  {
   "attachments": {
    "L-inf.svg": {
     "image/svg+xml": [
      "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"
     ]
    }
   },
   "cell_type": "markdown",
   "id": "d02be5fe",
   "metadata": {},
   "source": [
    "![L-inf.svg](attachment:L-inf.svg)"
   ]
  },
  {
   "cell_type": "code",
   "execution_count": 199,
   "id": "3a0336f6",
   "metadata": {},
   "outputs": [
    {
     "data": {
      "text/plain": [
       "array([9, 9, 7])"
      ]
     },
     "execution_count": 199,
     "metadata": {},
     "output_type": "execute_result"
    }
   ],
   "source": [
    "np.max(m, axis=1)"
   ]
  },
  {
   "cell_type": "markdown",
   "id": "cb90cb89",
   "metadata": {},
   "source": [
    "## Ejercicio 2: Sorting\n",
    "Dada una matriz en formato numpy array, donde cada fila de la matriz representa un vector matemático, se requiere computar la norma l2 de cada vector. Una vez obtenida la norma, se debe ordenar las mísmas de mayor a menor. Finalmente, obtener la matriz original ordenada por fila según la norma l2.\n",
    "\n",
    "Todas las operaciones debe ser vectorizadas."
   ]
  },
  {
   "cell_type": "code",
   "execution_count": 200,
   "id": "bbb4f3f9",
   "metadata": {},
   "outputs": [
    {
     "data": {
      "text/plain": [
       "array([[5, 9, 6],\n",
       "       [4, 7, 9],\n",
       "       [7, 2, 1]])"
      ]
     },
     "execution_count": 200,
     "metadata": {},
     "output_type": "execute_result"
    }
   ],
   "source": [
    "m"
   ]
  },
  {
   "cell_type": "code",
   "execution_count": 201,
   "id": "d77fb8ee",
   "metadata": {},
   "outputs": [
    {
     "data": {
      "text/plain": [
       "array([11.91637529, 12.08304597,  7.34846923])"
      ]
     },
     "execution_count": 201,
     "metadata": {},
     "output_type": "execute_result"
    }
   ],
   "source": [
    "l2 = lp_norm(m, p=2)\n",
    "l2"
   ]
  },
  {
   "cell_type": "code",
   "execution_count": 202,
   "id": "46406af2",
   "metadata": {},
   "outputs": [],
   "source": [
    "# ordenando los indexes de L2 de mayor a menor\n",
    "arg_sort = np.argsort(l2 * -1)"
   ]
  },
  {
   "cell_type": "code",
   "execution_count": 203,
   "id": "3952ab4e",
   "metadata": {},
   "outputs": [
    {
     "data": {
      "text/plain": [
       "array([[4, 7, 9],\n",
       "       [5, 9, 6],\n",
       "       [7, 2, 1]])"
      ]
     },
     "execution_count": 203,
     "metadata": {},
     "output_type": "execute_result"
    }
   ],
   "source": [
    "m[arg_sort, :]"
   ]
  },
  {
   "cell_type": "markdown",
   "id": "cff24729",
   "metadata": {},
   "source": [
    "## Ejecicio 3: Indexing\n",
    "El objetivo es construir un índice para identificadores de usuarios, es decir id2idx e idx2id. Para ello crear una clase, donde el índice se genere en el constructor. Armar métodos get_users_id y get_users_idx.\n",
    "\n",
    "- Identificadores de usuarios : users_id = [15, 12, 14, 10, 1, 2, 1]\n",
    "- Índice de usuarios : users_id = [0, 1, 2, 3, 4, 5, 4]"
   ]
  },
  {
   "cell_type": "markdown",
   "id": "6ebd8212",
   "metadata": {},
   "source": [
    "```\n",
    "id2idx =  [-1     4     5    -1    -1    -1     -1    -1    -1    -1     3     -1      1    -1     2     0]\n",
    "          [ 0     1     2     3     4     5      6     7     8     9    10     11     12    13    14    15]\n",
    "\n",
    "id2idx[15] -> 0 ; id2idx[12] -> 1 ; id2idx[3] -> -1\n",
    "idx2id[0] -> 15 ; idx2id[4] -> 1\n",
    "```"
   ]
  },
  {
   "cell_type": "code",
   "execution_count": 204,
   "id": "9d98e3cc",
   "metadata": {},
   "outputs": [],
   "source": [
    "users_id = [15, 12, 14, 10, 1, 2, 1]\n",
    "users_idx = [0, 1, 2, 3, 4, 5, 4]"
   ]
  },
  {
   "cell_type": "code",
   "execution_count": 205,
   "id": "79986091",
   "metadata": {},
   "outputs": [],
   "source": [
    "class Indexer(object):\n",
    "    def __init__(self, ids):\n",
    "        ids = np.unique(ids)\n",
    "        id2idx = np.ones(ids.max() + 1, dtype=np.int64) * -1\n",
    "        id2idx[ids] = np.arange(ids.size)\n",
    "        self.id2idx = id2idx\n",
    "        self.idx2id = ids\n",
    "\n",
    "    def get_users_idx(self, ids):\n",
    "        ids = self.id2idx[ids]\n",
    "        return ids, ids != -1\n",
    "\n",
    "    def get_users_id(self, idxs):\n",
    "        return self.idx2id[idxs]"
   ]
  },
  {
   "cell_type": "code",
   "execution_count": 206,
   "id": "16514944",
   "metadata": {},
   "outputs": [],
   "source": [
    "x = Indexer([15, 12, 14, 10, 1, 2, 1])"
   ]
  },
  {
   "cell_type": "code",
   "execution_count": 207,
   "id": "4a8f2ba7",
   "metadata": {},
   "outputs": [
    {
     "data": {
      "text/plain": [
       "(array([5, 3, 4, 2, 0, 1, 0]),\n",
       " array([ True,  True,  True,  True,  True,  True,  True]))"
      ]
     },
     "execution_count": 207,
     "metadata": {},
     "output_type": "execute_result"
    }
   ],
   "source": [
    "x.get_users_idx([15, 12, 14, 10, 1, 2, 1])"
   ]
  },
  {
   "cell_type": "code",
   "execution_count": 208,
   "id": "5ad143a6",
   "metadata": {},
   "outputs": [
    {
     "data": {
      "text/plain": [
       "array([ 1,  2, 10, 12, 14, 15, 14])"
      ]
     },
     "execution_count": 208,
     "metadata": {},
     "output_type": "execute_result"
    }
   ],
   "source": [
    "x.get_users_id([0, 1, 2, 3, 4, 5, 4])"
   ]
  },
  {
   "cell_type": "markdown",
   "id": "8036da41",
   "metadata": {},
   "source": [
    "## Ejercicio 4: Precision, Recall, Accuracy\n",
    "En los problemas de clasificación, se cuenta con dos arreglos, la verdad (ground truth) y la predicción (prediction). Cada elemento de los arreglos puede tomar dos valores: True (representado por 1) y False (representado por 0). Por lo tanto, se pueden definir cuatro variables:\n",
    "\n",
    "- True Positive (TP): la verdad es 1 y la predicción es 1.\n",
    "- True Negative (TN): la verdad es 0 y la predicción es 0.\n",
    "- False Negative (FN): la verdad es 1 y la predicción es 0.\n",
    "- False Positive (FP): la verdad es 0 y la predicción es 1.\n",
    "\n",
    "A partir de esas cuatro variables, se definen las siguientes métricas:\n",
    "\n",
    "- Precision = TP / (TP + FP)\n",
    "- Recall = TP / (TP + FN)\n",
    "- Accuracy = (TP + TN) / (TP + TN + FP + FN)\n",
    "\n",
    "Para los siguientes arreglos, representando la verdad y la predicción, calcular las métricas anteriores con operaciones vectorizadas en NumPy.\n",
    "\n",
    "- truth = [1,1,0,1,1,1,0,0,0,1]\n",
    "- prediction = [1,1,1,1,0,0,1,1,0,0]"
   ]
  },
  {
   "cell_type": "code",
   "execution_count": 209,
   "id": "61bf6059",
   "metadata": {},
   "outputs": [],
   "source": [
    "truth = np.array([1,1,0,1,1,1,0,0,0,1])\n",
    "prediction = np.array([1,1,1,1,0,0,1,1,0,0])"
   ]
  },
  {
   "cell_type": "code",
   "execution_count": 210,
   "id": "bafe6819",
   "metadata": {},
   "outputs": [],
   "source": [
    "TP_mask = (truth == 1) & (prediction == 1)\n",
    "FP_mask = (truth == 0) & (prediction == 1)\n",
    "FN_mask = (truth == 1) & (prediction == 0)\n",
    "TN_mask = (truth == 0) & (prediction == 1)"
   ]
  },
  {
   "cell_type": "code",
   "execution_count": 211,
   "id": "e5335182",
   "metadata": {},
   "outputs": [],
   "source": [
    "TP = TP_mask.sum()\n",
    "FP = FP_mask.sum()\n",
    "FN = FN_mask.sum()\n",
    "TN = TN_mask.sum()"
   ]
  },
  {
   "cell_type": "code",
   "execution_count": 212,
   "id": "f5272376",
   "metadata": {},
   "outputs": [],
   "source": [
    "Precision = TP / (TP + FP)\n",
    "Recall = TP / (TP + FN)\n",
    "Accuracy = (TP + TN) / (TP + TN + FP + FN)"
   ]
  },
  {
   "cell_type": "markdown",
   "id": "483f69b1",
   "metadata": {},
   "source": [
    "## Ejercicio 5: Average Query Precision \n",
    "\n",
    "En information retrieval o search engines, en general contamos con queries “q” y para cada “q” una lista de documentos que son verdaderamente relevantes. Para evaluar un search engine, es común utilizar la métrica average query precision. Tomando de referencia el siguiente ejemplo, calcular la métrica con NumPy utilizando operaciones vectorizadas.\n",
    "\n",
    "`\n",
    "q_id =             [1, 1, 1, 1, 2, 2, 2, 3, 3, 3, 3, 3, 4, 4, 4, 4]\n",
    "predicted_rank =   [0, 1, 2, 3, 0, 1, 2, 0, 1, 2, 3, 4, 0, 1, 2, 3]\n",
    "truth_relevance =  [T, F, T, F, T, T, T, F, F, F, F, F, T, F, F, T] \n",
    "`\n",
    "\n",
    "- Precision para q_id 1 = 2 / 4\n",
    "- Precision para q_id 2 = 3 / 3\n",
    "- Precision para q_id 3 = 0 / 5\n",
    "- Precision para q_id 4 = 2 / 4\n",
    "\n",
    "*average query precision* = ((2/4) + (3/3) + (0/5) + (2/4)) / 4"
   ]
  },
  {
   "cell_type": "code",
   "execution_count": 3,
   "id": "02b1451c",
   "metadata": {},
   "outputs": [
    {
     "data": {
      "text/plain": [
       "array([ True, False,  True, False,  True,  True,  True, False, False,\n",
       "       False, False, False,  True, False, False,  True])"
      ]
     },
     "execution_count": 3,
     "metadata": {},
     "output_type": "execute_result"
    }
   ],
   "source": [
    "T = 1\n",
    "F = 0\n",
    "truth_relevance =  [T, F, T, F, T, T, T, F, F, F, F, F, T, F, F, T] \n",
    "truth_relevance = np.array(truth_relevance)\n",
    "true_relevance_mask = (truth_relevance == 1)\n",
    "true_relevance_mask"
   ]
  },
  {
   "cell_type": "code",
   "execution_count": 4,
   "id": "ba02fa4e",
   "metadata": {},
   "outputs": [
    {
     "data": {
      "text/plain": [
       "array([1, 1, 2, 2, 2, 4, 4])"
      ]
     },
     "execution_count": 4,
     "metadata": {},
     "output_type": "execute_result"
    }
   ],
   "source": [
    "q_ids = [1, 1, 1, 1, 2, 2, 2, 3, 3, 3, 3, 3, 4, 4, 4, 4]\n",
    "query_ids = np.array(q_ids)\n",
    "filtered_query_id = query_ids[true_relevance_mask]\n",
    "filtered_query_id"
   ]
  },
  {
   "cell_type": "code",
   "execution_count": 5,
   "id": "1e747ded",
   "metadata": {},
   "outputs": [
    {
     "data": {
      "text/plain": [
       "array([0, 2, 3, 0, 2])"
      ]
     },
     "execution_count": 5,
     "metadata": {},
     "output_type": "execute_result"
    }
   ],
   "source": [
    "filtered_true_relevance_count = np.bincount(filtered_query_id)\n",
    "filtered_true_relevance_count"
   ]
  },
  {
   "cell_type": "code",
   "execution_count": 6,
   "id": "f8222ffc",
   "metadata": {},
   "outputs": [
    {
     "name": "stdout",
     "output_type": "stream",
     "text": [
      "[1 2 3 4]\n",
      "(array([1, 2, 4]),)\n",
      "[0. 0. 0. 0. 0.]\n"
     ]
    }
   ],
   "source": [
    "# contar queries con 0 en queries sin documentos relevantes\n",
    "unique_query_ids = np.unique(query_ids)\n",
    "print(unique_query_ids)\n",
    "non_zero_count_idxs = np.where(filtered_true_relevance_count > 0)\n",
    "print(non_zero_count_idxs)\n",
    "true_relevance_count = np.zeros(unique_query_ids.max() + 1)\n",
    "print(true_relevance_count)"
   ]
  },
  {
   "cell_type": "code",
   "execution_count": 7,
   "id": "951ae9c7",
   "metadata": {},
   "outputs": [
    {
     "data": {
      "text/plain": [
       "array([0., 2., 3., 0., 2.])"
      ]
     },
     "execution_count": 7,
     "metadata": {},
     "output_type": "execute_result"
    }
   ],
   "source": [
    "true_relevance_count[non_zero_count_idxs] = filtered_true_relevance_count[non_zero_count_idxs]\n",
    "true_relevance_count"
   ]
  },
  {
   "cell_type": "code",
   "execution_count": 8,
   "id": "37a7603e",
   "metadata": {},
   "outputs": [
    {
     "data": {
      "text/plain": [
       "array([2., 3., 0., 2.])"
      ]
     },
     "execution_count": 8,
     "metadata": {},
     "output_type": "execute_result"
    }
   ],
   "source": [
    "true_relevance_count_by_query = true_relevance_count[unique_query_ids]\n",
    "true_relevance_count_by_query # = filtered_true_relevance_count"
   ]
  },
  {
   "cell_type": "code",
   "execution_count": 219,
   "id": "2e458abc",
   "metadata": {},
   "outputs": [
    {
     "data": {
      "text/plain": [
       "array([4, 3, 5, 4])"
      ]
     },
     "execution_count": 219,
     "metadata": {},
     "output_type": "execute_result"
    }
   ],
   "source": [
    "fetched_documents_count = np.bincount(query_ids)[unique_query_ids]\n",
    "fetched_documents_count"
   ]
  },
  {
   "cell_type": "code",
   "execution_count": 220,
   "id": "1acef4be",
   "metadata": {},
   "outputs": [
    {
     "data": {
      "text/plain": [
       "array([0.5, 1. , 0. , 0.5])"
      ]
     },
     "execution_count": 220,
     "metadata": {},
     "output_type": "execute_result"
    }
   ],
   "source": [
    "precision_by_query = true_relevance_count_by_query / fetched_documents_count\n",
    "precision_by_query"
   ]
  },
  {
   "cell_type": "code",
   "execution_count": 221,
   "id": "2c96512f",
   "metadata": {},
   "outputs": [
    {
     "data": {
      "text/plain": [
       "0.5"
      ]
     },
     "execution_count": 221,
     "metadata": {},
     "output_type": "execute_result"
    }
   ],
   "source": [
    "np.mean(precision_by_query)"
   ]
  },
  {
   "cell_type": "markdown",
   "id": "d62804cb",
   "metadata": {},
   "source": [
    "## Ejecicio 6: Distancia a Centroides\n",
    "\n",
    "Dada una nube de puntos X y centroides C, obtener la distancia entre cada vector X y los centroides utilizando operaciones vectorizadas y broadcasting en NumPy. Utilizar como referencia los siguientes valores:\n",
    "\n",
    "`X = [[1, 2, 3], [4, 5, 6], [7, 8, 9]]\n",
    "C = [[1, 0, 0], [0, 1, 1]] ` "
   ]
  },
  {
   "cell_type": "code",
   "execution_count": 222,
   "id": "6b4aa4ec",
   "metadata": {},
   "outputs": [],
   "source": [
    "X = [[1, 2, 3], [4, 5, 6], [7, 8, 9]]\n",
    "x = np.array(X)\n",
    "C = [[1, 0, 0], [0, 1, 1]]   \n",
    "c = np.array(C)"
   ]
  },
  {
   "cell_type": "code",
   "execution_count": 223,
   "id": "7509b9c2",
   "metadata": {},
   "outputs": [
    {
     "data": {
      "text/plain": [
       "array([[1, 2, 3],\n",
       "       [4, 5, 6],\n",
       "       [7, 8, 9]])"
      ]
     },
     "execution_count": 223,
     "metadata": {},
     "output_type": "execute_result"
    }
   ],
   "source": [
    "x"
   ]
  },
  {
   "cell_type": "code",
   "execution_count": 224,
   "id": "c996e7cb",
   "metadata": {},
   "outputs": [
    {
     "data": {
      "text/plain": [
       "array([[1, 0, 0],\n",
       "       [0, 1, 1]])"
      ]
     },
     "execution_count": 224,
     "metadata": {},
     "output_type": "execute_result"
    }
   ],
   "source": [
    "c"
   ]
  },
  {
   "cell_type": "code",
   "execution_count": 225,
   "id": "440e26e7",
   "metadata": {},
   "outputs": [
    {
     "ename": "ValueError",
     "evalue": "operands could not be broadcast together with shapes (2,3) (3,3) ",
     "output_type": "error",
     "traceback": [
      "\u001b[0;31m---------------------------------------------------------------------------\u001b[0m",
      "\u001b[0;31mValueError\u001b[0m                                Traceback (most recent call last)",
      "\u001b[0;32m<ipython-input-225-a7ed16b657e6>\u001b[0m in \u001b[0;36m<module>\u001b[0;34m\u001b[0m\n\u001b[0;32m----> 1\u001b[0;31m \u001b[0mc\u001b[0m \u001b[0;34m-\u001b[0m \u001b[0mx\u001b[0m\u001b[0;34m\u001b[0m\u001b[0;34m\u001b[0m\u001b[0m\n\u001b[0m",
      "\u001b[0;31mValueError\u001b[0m: operands could not be broadcast together with shapes (2,3) (3,3) "
     ]
    }
   ],
   "source": [
    "c - x"
   ]
  },
  {
   "cell_type": "code",
   "execution_count": 226,
   "id": "7ada7daa",
   "metadata": {},
   "outputs": [
    {
     "data": {
      "text/plain": [
       "array([[[ 0, -2, -3],\n",
       "        [-3, -5, -6],\n",
       "        [-6, -8, -9]],\n",
       "\n",
       "       [[-1, -1, -2],\n",
       "        [-4, -4, -5],\n",
       "        [-7, -7, -8]]])"
      ]
     },
     "execution_count": 226,
     "metadata": {},
     "output_type": "execute_result"
    }
   ],
   "source": [
    "c[:,np.newaxis] - x"
   ]
  },
  {
   "cell_type": "markdown",
   "id": "26580720",
   "metadata": {},
   "source": [
    "De acá sale cómo sacar la distancia de un centroide: https://www.datasciencecentral.com/steps-to-calculate-centroids-in-cluster-using-k-means-clustering/"
   ]
  },
  {
   "cell_type": "code",
   "execution_count": 14,
   "id": "222ced91",
   "metadata": {},
   "outputs": [],
   "source": [
    "def get_centroid_distances(c, x):\n",
    "    c_temp = c[:,np.newaxis]\n",
    "    # get distance to X points\n",
    "    substraction = c_temp - x\n",
    "    sum_of_squares = np.sum((substraction) ** 2, axis=2)\n",
    "    return np.sqrt(sum_of_squares)"
   ]
  },
  {
   "cell_type": "code",
   "execution_count": 228,
   "id": "e28a6e03",
   "metadata": {},
   "outputs": [
    {
     "data": {
      "text/plain": [
       "array([[ 3.60555128,  8.36660027, 13.45362405],\n",
       "       [ 2.44948974,  7.54983444, 12.72792206]])"
      ]
     },
     "execution_count": 228,
     "metadata": {},
     "output_type": "execute_result"
    }
   ],
   "source": [
    "C = [[1, 0, 0], [0, 1, 1]]  \n",
    "X = [[1, 2, 3], [4, 5, 6], [7, 8, 9]]\n",
    "x = np.array(X) \n",
    "c = np.array(C)\n",
    "get_centroid_distances(c, x)"
   ]
  },
  {
   "cell_type": "markdown",
   "id": "c3374d4b",
   "metadata": {},
   "source": [
    "# Ejecicio 7: Etiquetar Cluster\n",
    "\n",
    "Obtener para cada fila en X, el índice de la fila en C con distancia euclídea más pequeña. Es decir, para cada fila en X, determinar a qué cluster pertenece en C. Hint: usar np.argmin."
   ]
  },
  {
   "cell_type": "code",
   "execution_count": 229,
   "id": "90c302bb",
   "metadata": {},
   "outputs": [],
   "source": [
    "C = [[1, 0, 0], [0, 1, 1]]  \n",
    "X = [[1, 2, 3], [4, 5, 6], [7, 8, 9]]\n",
    "x = np.array(X) \n",
    "c = np.array(C)"
   ]
  },
  {
   "cell_type": "code",
   "execution_count": 230,
   "id": "4d49eded",
   "metadata": {},
   "outputs": [
    {
     "data": {
      "text/plain": [
       "array([[ 3.60555128,  8.36660027, 13.45362405],\n",
       "       [ 2.44948974,  7.54983444, 12.72792206]])"
      ]
     },
     "execution_count": 230,
     "metadata": {},
     "output_type": "execute_result"
    }
   ],
   "source": [
    "distances = get_centroid_distances(c, x)\n",
    "distances"
   ]
  },
  {
   "cell_type": "code",
   "execution_count": 236,
   "id": "28c55d98",
   "metadata": {},
   "outputs": [
    {
     "data": {
      "text/plain": [
       "array([0, 0])"
      ]
     },
     "execution_count": 236,
     "metadata": {},
     "output_type": "execute_result"
    }
   ],
   "source": [
    "# The numpy.argmin() method returns indices of the \n",
    "# min element of the array in a particular axis. \n",
    "np.argmin(distances, axis=1)"
   ]
  },
  {
   "cell_type": "code",
   "execution_count": 238,
   "id": "d772523d",
   "metadata": {},
   "outputs": [
    {
     "data": {
      "text/plain": [
       "array([1, 1, 1])"
      ]
     },
     "execution_count": 238,
     "metadata": {},
     "output_type": "execute_result"
    }
   ],
   "source": [
    "# cambio el axis para que devuelva el min ID de cada elem de X\n",
    "np.argmin(distances, axis=0)"
   ]
  },
  {
   "cell_type": "markdown",
   "id": "a7e0af7e",
   "metadata": {},
   "source": [
    "# Ejercicio 8: Implementación Básica de K-means\n",
    "\n",
    "K-means es uno de los algoritmos más básicos en Machine Learning no supervisado. Es un algoritmo de clusterización, que agrupa datos que comparten características similares. Recordemos que entendemos datos como n realizaciones del vector aleatorio X.\n",
    "\n",
    "El algoritmo funciona de la siguiente manera:\n",
    "\n",
    "1. El usuario selecciona la cantidad de clusters a crear n.\n",
    "2. Se seleccionan n elementos aleatorios de X como posiciones iniciales del los centroides C.\n",
    "3. Se calcula la distancia entre todos los puntos en X y todos los puntos en C.\n",
    "4. Para cada punto en X se selecciona el centroide más cercano de C.\n",
    "5. Se recalculan los centroides C a partir de usar las filas de X que pertenecen a cada centroide.\n",
    "6. Se itera entre 3 y 5 una cantidad fija de veces o hasta que la posición de los centroides no cambie dada una tolerancia.\n",
    "\n",
    "Se debe por lo tanto implementar la función k_means(X, n) de manera tal que, al finalizar, devuelva la posición de los centroides y a qué cluster pertenece cada fila de X.\n",
    "\n",
    "Hint: para (2) utilizar funciones de np.random, para (3) y (4) usar los ejercicios anteriores, para (5) es válido utilizar un for. Iterar 10 veces entre (3) y (5)."
   ]
  },
  {
   "cell_type": "code",
   "execution_count": 9,
   "id": "ba6f8681",
   "metadata": {},
   "outputs": [],
   "source": [
    "X = [[1, 2, 3], [4, 5, 6], [7, 8, 9]]\n",
    "x = np.array(X)"
   ]
  },
  {
   "cell_type": "code",
   "execution_count": 10,
   "id": "944556a6",
   "metadata": {},
   "outputs": [],
   "source": [
    "# El usuario selecciona la cantidad de clusters a crear n.\n",
    "\n",
    "n = 4"
   ]
  },
  {
   "cell_type": "code",
   "execution_count": 11,
   "id": "5cdd9546",
   "metadata": {},
   "outputs": [],
   "source": [
    "# Se seleccionan n elementos aleatorios de X como \n",
    "# posiciones iniciales del los centroides C.\n",
    "\n",
    "random_x_elements = np.random.randint(0,x.shape[0],n)\n",
    "centroids = x[random_x_elements]"
   ]
  },
  {
   "cell_type": "code",
   "execution_count": 12,
   "id": "035a89c9",
   "metadata": {},
   "outputs": [
    {
     "data": {
      "text/plain": [
       "array([[7, 8, 9],\n",
       "       [4, 5, 6],\n",
       "       [1, 2, 3],\n",
       "       [4, 5, 6]])"
      ]
     },
     "execution_count": 12,
     "metadata": {},
     "output_type": "execute_result"
    }
   ],
   "source": [
    "centroids\n",
    "# centroids = np.array([[7, 8, 9],\n",
    "#        [4, 5, 6],\n",
    "#        [4, 5, 6],\n",
    "#        [7, 8, 9]])\n",
    "# centroids"
   ]
  },
  {
   "cell_type": "code",
   "execution_count": 15,
   "id": "adbbfffb",
   "metadata": {},
   "outputs": [
    {
     "data": {
      "text/plain": [
       "array([[10.39230485,  5.19615242,  0.        ],\n",
       "       [ 5.19615242,  0.        ,  5.19615242],\n",
       "       [ 0.        ,  5.19615242, 10.39230485],\n",
       "       [ 5.19615242,  0.        ,  5.19615242]])"
      ]
     },
     "execution_count": 15,
     "metadata": {},
     "output_type": "execute_result"
    }
   ],
   "source": [
    "# Se calcula la distancia entre todos los puntos en X y todos \n",
    "# los puntos en C.\n",
    "\n",
    "distances = get_centroid_distances(centroids, x)\n",
    "distances"
   ]
  },
  {
   "cell_type": "code",
   "execution_count": 317,
   "id": "99a2245a",
   "metadata": {},
   "outputs": [
    {
     "data": {
      "text/plain": [
       "array([0, 0, 1, 1, 1, 3])"
      ]
     },
     "execution_count": 317,
     "metadata": {},
     "output_type": "execute_result"
    }
   ],
   "source": [
    "# Para cada punto en X se selecciona el centroide más cercano de C.\n",
    "\n",
    "min_distances = np.argmin(distances, axis=0)\n",
    "min_distances"
   ]
  },
  {
   "cell_type": "code",
   "execution_count": 294,
   "id": "535af98d",
   "metadata": {},
   "outputs": [
    {
     "name": "stdout",
     "output_type": "stream",
     "text": [
      "old centroid: [7 8 9]\n",
      "new centroid: [7. 8. 9.]\n",
      "old centroid: [4 5 6]\n",
      "new centroid: [2.5 3.5 4.5]\n",
      "old centroid: [4 5 6]\n",
      "new centroid: [nan nan nan]\n",
      "old centroid: [7 8 9]\n",
      "new centroid: [nan nan nan]\n"
     ]
    }
   ],
   "source": [
    "# Se recalculan los centroides C a partir de usar las filas de X \n",
    "# que pertenecen a cada centroide.\n",
    "\n",
    "for i, centroid in enumerate(centroids):\n",
    "    print(\"old centroid:\", centroid)\n",
    "    new_centroid = np.mean(x[min_distances == i,:], axis=0)\n",
    "    print(\"new centroid:\", new_centroid)\n",
    "    centroids[i] = new_centroid"
   ]
  },
  {
   "cell_type": "code",
   "execution_count": 16,
   "id": "6c9880bd",
   "metadata": {},
   "outputs": [],
   "source": [
    "def k_means_loop(x, centroids):\n",
    "    # Se calcula la distancia entre todos los puntos en X y todos \n",
    "    # los puntos en C.\n",
    "\n",
    "    distances = get_centroid_distances(centroids, x)\n",
    "    distances\n",
    "    # Para cada punto en X se selecciona el centroide más cercano de C.\n",
    "\n",
    "    min_distances = np.argmin(distances, axis=0)\n",
    "    min_distances\n",
    "\n",
    "    # Se recalculan los centroides C a partir de usar las filas de X \n",
    "    # que pertenecen a cada centroide.\n",
    "\n",
    "    for i, centroid in enumerate(centroids):\n",
    "        print(\"old centroid:\", centroid)\n",
    "        new_centroid = np.mean(x[min_distances == i,:], axis=0)\n",
    "        print(\"new centroid:\", new_centroid)\n",
    "        centroids[i] = new_centroid\n",
    "    \n",
    "    return centroids, min_distances"
   ]
  },
  {
   "cell_type": "code",
   "execution_count": 17,
   "id": "2e64af2e",
   "metadata": {},
   "outputs": [
    {
     "name": "stdout",
     "output_type": "stream",
     "text": [
      "old centroid: [7 8 9]\n",
      "new centroid: [7. 8. 9.]\n",
      "old centroid: [4 5 6]\n",
      "new centroid: [4. 5. 6.]\n",
      "old centroid: [1 2 3]\n",
      "new centroid: [1. 2. 3.]\n",
      "old centroid: [4 5 6]\n",
      "new centroid: [nan nan nan]\n",
      "old centroid: [7 8 9]\n",
      "new centroid: [7. 8. 9.]\n",
      "old centroid: [4 5 6]\n",
      "new centroid: [4. 5. 6.]\n",
      "old centroid: [1 2 3]\n",
      "new centroid: [1. 2. 3.]\n",
      "old centroid: [-9223372036854775808 -9223372036854775808 -9223372036854775808]\n",
      "new centroid: [nan nan nan]\n",
      "old centroid: [7 8 9]\n",
      "new centroid: [7. 8. 9.]\n",
      "old centroid: [4 5 6]\n",
      "new centroid: [4. 5. 6.]\n",
      "old centroid: [1 2 3]\n",
      "new centroid: [1. 2. 3.]\n",
      "old centroid: [-9223372036854775808 -9223372036854775808 -9223372036854775808]\n",
      "new centroid: [nan nan nan]\n",
      "old centroid: [7 8 9]\n",
      "new centroid: [7. 8. 9.]\n",
      "old centroid: [4 5 6]\n",
      "new centroid: [4. 5. 6.]\n",
      "old centroid: [1 2 3]\n",
      "new centroid: [1. 2. 3.]\n",
      "old centroid: [-9223372036854775808 -9223372036854775808 -9223372036854775808]\n",
      "new centroid: [nan nan nan]\n",
      "old centroid: [7 8 9]\n",
      "new centroid: [7. 8. 9.]\n",
      "old centroid: [4 5 6]\n",
      "new centroid: [4. 5. 6.]\n",
      "old centroid: [1 2 3]\n",
      "new centroid: [1. 2. 3.]\n",
      "old centroid: [-9223372036854775808 -9223372036854775808 -9223372036854775808]\n",
      "new centroid: [nan nan nan]\n",
      "old centroid: [7 8 9]\n",
      "new centroid: [7. 8. 9.]\n",
      "old centroid: [4 5 6]\n",
      "new centroid: [4. 5. 6.]\n",
      "old centroid: [1 2 3]\n",
      "new centroid: [1. 2. 3.]\n",
      "old centroid: [-9223372036854775808 -9223372036854775808 -9223372036854775808]\n",
      "new centroid: [nan nan nan]\n",
      "old centroid: [7 8 9]\n",
      "new centroid: [7. 8. 9.]\n",
      "old centroid: [4 5 6]\n",
      "new centroid: [4. 5. 6.]\n",
      "old centroid: [1 2 3]\n",
      "new centroid: [1. 2. 3.]\n",
      "old centroid: [-9223372036854775808 -9223372036854775808 -9223372036854775808]\n",
      "new centroid: [nan nan nan]\n",
      "old centroid: [7 8 9]\n",
      "new centroid: [7. 8. 9.]\n",
      "old centroid: [4 5 6]\n",
      "new centroid: [4. 5. 6.]\n",
      "old centroid: [1 2 3]\n",
      "new centroid: [1. 2. 3.]\n",
      "old centroid: [-9223372036854775808 -9223372036854775808 -9223372036854775808]\n",
      "new centroid: [nan nan nan]\n",
      "old centroid: [7 8 9]\n",
      "new centroid: [7. 8. 9.]\n",
      "old centroid: [4 5 6]\n",
      "new centroid: [4. 5. 6.]\n",
      "old centroid: [1 2 3]\n",
      "new centroid: [1. 2. 3.]\n",
      "old centroid: [-9223372036854775808 -9223372036854775808 -9223372036854775808]\n",
      "new centroid: [nan nan nan]\n",
      "old centroid: [7 8 9]\n",
      "new centroid: [7. 8. 9.]\n",
      "old centroid: [4 5 6]\n",
      "new centroid: [4. 5. 6.]\n",
      "old centroid: [1 2 3]\n",
      "new centroid: [1. 2. 3.]\n",
      "old centroid: [-9223372036854775808 -9223372036854775808 -9223372036854775808]\n",
      "new centroid: [nan nan nan]\n"
     ]
    },
    {
     "name": "stderr",
     "output_type": "stream",
     "text": [
      "/Users/flor/opt/anaconda3/lib/python3.8/site-packages/numpy/core/fromnumeric.py:3419: RuntimeWarning: Mean of empty slice.\n",
      "  return _methods._mean(a, axis=axis, dtype=dtype,\n",
      "/Users/flor/opt/anaconda3/lib/python3.8/site-packages/numpy/core/_methods.py:180: RuntimeWarning: invalid value encountered in true_divide\n",
      "  ret = um.true_divide(\n"
     ]
    }
   ],
   "source": [
    "for i in range(10):\n",
    "    centroids, min_distances = k_means_loop(x, centroids)"
   ]
  },
  {
   "cell_type": "code",
   "execution_count": 18,
   "id": "fd848f7c",
   "metadata": {},
   "outputs": [
    {
     "name": "stdout",
     "output_type": "stream",
     "text": [
      "[[1 2 3]\n",
      " [4 5 6]\n",
      " [7 8 9]]\n",
      "[[                   7                    8                    9]\n",
      " [                   4                    5                    6]\n",
      " [                   1                    2                    3]\n",
      " [-9223372036854775808 -9223372036854775808 -9223372036854775808]]\n",
      "[2 1 0]\n"
     ]
    }
   ],
   "source": [
    "print(x)\n",
    "print(centroids)\n",
    "print(min_distances)"
   ]
  },
  {
   "cell_type": "code",
   "execution_count": 311,
   "id": "69d476c3",
   "metadata": {},
   "outputs": [
    {
     "data": {
      "text/plain": [
       "array([[ 1,  2],\n",
       "       [ 3,  4],\n",
       "       [ 5,  6],\n",
       "       [ 7,  8],\n",
       "       [ 9, 10],\n",
       "       [11, 12]])"
      ]
     },
     "execution_count": 311,
     "metadata": {},
     "output_type": "execute_result"
    }
   ],
   "source": [
    "x = np.arange(1,13)\n",
    "x = x.reshape((6,2))"
   ]
  },
  {
   "cell_type": "markdown",
   "id": "8af6f374",
   "metadata": {},
   "source": [
    "# Ejercicio 9: Computar Métricas con __call__ \n",
    "\n",
    "En problemas de machine learning, es muy común que para cada predicción que obtenemos en nuestro dataset de verificacion y evaluacion, almacenemos en arreglos de numpy el resultado de dicha predicción, junto con el valor verdadero y parámetros auxiliares (como el ranking de la predicción y el query id).\n",
    "\n",
    "Luego de obtener todas las predicciones, podemos utilizar la información almacenada en los arreglos de numpy, para calcular todas las métricas que queremos medir en nuestro sistema.\n",
    "\n",
    "Una buena práctica para implementar esto en Python, es crear clases que hereden de una clase Metric “base” y que cada métrica implemente el método __call__.\n",
    "\n",
    "Utilizar herencia, operador __call__ y kwargs, para escribir un programa que permita calcular todas las métricas de los ejercicios anteriores mediante un for."
   ]
  },
  {
   "cell_type": "code",
   "execution_count": null,
   "id": "d85367d3",
   "metadata": {},
   "outputs": [],
   "source": [
    "class IterateMetrics(object):\n",
    "    def __init__(self, **kwargs):\n",
    "        self.data = kwargs\n",
    "        self.metrics = {}\n",
    "\n",
    "    def get_metrics(self):\n",
    "        metrics_options = [Precision, Recall, Accuracy, QueryMeanPrecision]\n",
    "        for metric in metrics_options:\n",
    "            aux = metric(**self.data)\n",
    "            self.metrics[metric.__name__] = aux()\n",
    "        return self.metrics"
   ]
  },
  {
   "cell_type": "code",
   "execution_count": null,
   "id": "05abe552",
   "metadata": {},
   "outputs": [],
   "source": [
    "class Metric:\n",
    "    def __init__(self, **kwargs):\n",
    "        self.data = kwargs\n",
    "        self.metrics = {}\n",
    "    \n",
    "    def __call__(self):\n",
    "\n",
    "class B(Metric):\n",
    "    pass"
   ]
  },
  {
   "cell_type": "code",
   "execution_count": null,
   "id": "5e81d7ff",
   "metadata": {},
   "outputs": [],
   "source": []
  },
  {
   "cell_type": "code",
   "execution_count": null,
   "id": "b3abe763",
   "metadata": {},
   "outputs": [],
   "source": []
  },
  {
   "cell_type": "code",
   "execution_count": null,
   "id": "92d5006a",
   "metadata": {},
   "outputs": [],
   "source": []
  },
  {
   "cell_type": "code",
   "execution_count": null,
   "id": "a88ce003",
   "metadata": {},
   "outputs": [],
   "source": []
  }
 ],
 "metadata": {
  "kernelspec": {
   "display_name": "Python 3",
   "language": "python",
   "name": "python3"
  },
  "language_info": {
   "codemirror_mode": {
    "name": "ipython",
    "version": 3
   },
   "file_extension": ".py",
   "mimetype": "text/x-python",
   "name": "python",
   "nbconvert_exporter": "python",
   "pygments_lexer": "ipython3",
   "version": "3.8.8"
  }
 },
 "nbformat": 4,
 "nbformat_minor": 5
}
